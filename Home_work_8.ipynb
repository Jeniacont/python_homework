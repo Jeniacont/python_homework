{
 "cells": [
  {
   "cell_type": "code",
   "execution_count": 2,
   "metadata": {},
   "outputs": [
    {
     "name": "stdout",
     "output_type": "stream",
     "text": [
      "Numarul literelor in fisier: 539\n",
      "Numarul cifrelor in fisier: 9\n"
     ]
    }
   ],
   "source": [
    "file = open(\"text.txt\", \"r\")\n",
    "text= file.read()\n",
    "litere=cifra=0\n",
    "for i in range(len(text)):\n",
    "    if(text[i] >= 'a' and text[i] <= 'z' or text[i] >= 'A' and text[i] <= 'Z'): \n",
    "        litere = litere + 1\n",
    "    elif(text[i] >= '0' and text[i] <= '9'):\n",
    "        cifra=cifra + 1\n",
    "print('Numarul literelor in fisier:', litere)\n",
    "print('Numarul cifrelor in fisier:', cifra)"
   ]
  },
  {
   "cell_type": "code",
   "execution_count": null,
   "metadata": {},
   "outputs": [],
   "source": []
  }
 ],
 "metadata": {
  "kernelspec": {
   "display_name": "Python 3",
   "language": "python",
   "name": "python3"
  },
  "language_info": {
   "codemirror_mode": {
    "name": "ipython",
    "version": 3
   },
   "file_extension": ".py",
   "mimetype": "text/x-python",
   "name": "python",
   "nbconvert_exporter": "python",
   "pygments_lexer": "ipython3",
   "version": "3.8.6"
  }
 },
 "nbformat": 4,
 "nbformat_minor": 2
}
