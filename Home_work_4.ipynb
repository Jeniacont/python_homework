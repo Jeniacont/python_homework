{
 "cells": [
  {
   "cell_type": "code",
   "execution_count": 1,
   "id": "certain-gossip",
   "metadata": {},
   "outputs": [
    {
     "name": "stdout",
     "output_type": "stream",
     "text": [
      "[1, 5, 4, 6, 4, 12]\n"
     ]
    }
   ],
   "source": [
    "tuple = [(1,4), (4,2), (4,8)]\n",
    "rezultatul = []\n",
    "for i in tuple:\n",
    "    tuple_suma = 0\n",
    "    for j in i:\n",
    "        tuple_suma+=j\n",
    "        rezultatul.append(tuple_suma)\n",
    "print(rezultatul)"
   ]
  },
  {
   "cell_type": "code",
   "execution_count": 2,
   "id": "falling-nomination",
   "metadata": {},
   "outputs": [
    {
     "name": "stdout",
     "output_type": "stream",
     "text": [
      "[12, 48, 192, 384, 1536, 12288]\n"
     ]
    }
   ],
   "source": [
    "tuple = [(1,4), (4,2), (4,8)]\n",
    "rezultatul = []\n",
    "for i in tuple:\n",
    "    tuple_produs = 1\n",
    "    for j in i:\n",
    "        tuple_suma*=j\n",
    "        rezultatul.append(tuple_suma)\n",
    "print(rezultatul)"
   ]
  },
  {
   "cell_type": "code",
   "execution_count": null,
   "id": "transparent-investing",
   "metadata": {},
   "outputs": [],
   "source": []
  }
 ],
 "metadata": {
  "kernelspec": {
   "display_name": "Python 3",
   "language": "python",
   "name": "python3"
  },
  "language_info": {
   "codemirror_mode": {
    "name": "ipython",
    "version": 3
   },
   "file_extension": ".py",
   "mimetype": "text/x-python",
   "name": "python",
   "nbconvert_exporter": "python",
   "pygments_lexer": "ipython3",
   "version": "3.7.9"
  }
 },
 "nbformat": 4,
 "nbformat_minor": 5
}
