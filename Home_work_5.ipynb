{
 "cells": [
  {
   "cell_type": "code",
   "execution_count": 1,
   "metadata": {
    "scrolled": true
   },
   "outputs": [
    {
     "name": "stdout",
     "output_type": "stream",
     "text": [
      "Introduceti un text:Buna seara, este test de verificare .\n",
      "Buna seara, este test de verificare .\n",
      "Numarul vocalelor este: 14\n",
      "Numarul consoanelor este: 23\n",
      "Numarul simbolurilor este: 8\n",
      "Numarul literelor mici este: 28\n",
      "Numarul literelor mari este: 1\n",
      "Numarul cifrelor este: 0\n"
     ]
    }
   ],
   "source": [
    "# a)vocalelor  b)consoanelor  c)simbolurilor care nu sunt litere  d)literelor mici  e)literelor mari  f)cifrelor\n",
    "text=str(input(\"Introduceti un text:\"))\n",
    "print(text)\n",
    "vocala=consoana=simbol=cifra=mici=mari=0\n",
    "for i in text:\n",
    "      if(i=='a' or i=='e' or i=='i' or i=='o' or i=='u' or i=='A' or i=='E' or i=='I' or i=='O' or i=='U'):\n",
    "          vocala=vocala+1\n",
    "      else:\n",
    "          consoana = consoana + 1\n",
    "for i in range(len(text)):\n",
    "    if(text[i] >= 'a' and text[i] <= 'z'): \n",
    "        mici = mici + 1\n",
    "    elif(text[i] >= '0' and text[i] <= '9'):\n",
    "        cifra=cifra + 1\n",
    "    elif(text[i] >= 'A' and text[i] <= 'Z'):\n",
    "        mari = mari + 1\n",
    "    else:\n",
    "        simbol = simbol + 1\n",
    "print(\"Numarul vocalelor este:\",vocala)\n",
    "print(\"Numarul consoanelor este:\",consoana)\n",
    "print(\"Numarul simbolurilor este:\",simbol)\n",
    "print(\"Numarul literelor mici este:\",mici)\n",
    "print(\"Numarul literelor mari este:\",mari)\n",
    "print(\"Numarul cifrelor este:\",cifra)"
   ]
  },
  {
   "cell_type": "code",
   "execution_count": null,
   "metadata": {},
   "outputs": [],
   "source": []
  }
 ],
 "metadata": {
  "kernelspec": {
   "display_name": "Python 3",
   "language": "python",
   "name": "python3"
  },
  "language_info": {
   "codemirror_mode": {
    "name": "ipython",
    "version": 3
   },
   "file_extension": ".py",
   "mimetype": "text/x-python",
   "name": "python",
   "nbconvert_exporter": "python",
   "pygments_lexer": "ipython3",
   "version": "3.8.6"
  }
 },
 "nbformat": 4,
 "nbformat_minor": 2
}
