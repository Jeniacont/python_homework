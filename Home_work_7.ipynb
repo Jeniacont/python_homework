{
 "cells": [
  {
   "cell_type": "code",
   "execution_count": 1,
   "metadata": {},
   "outputs": [
    {
     "name": "stdout",
     "output_type": "stream",
     "text": [
      "Introduceti latura a:5\n",
      "5\n",
      "Introduceti latura b:6\n",
      "6\n",
      "Introduceti latura c:7\n",
      "7\n",
      "6.02\n",
      "5.29\n",
      "4.27\n"
     ]
    }
   ],
   "source": [
    "import math  \n",
    "a=int(input(\"Introduceti latura a:\"))\n",
    "print(a)\n",
    "b=int(input(\"Introduceti latura b:\"))\n",
    "print(b)\n",
    "c=int(input(\"Introduceti latura c:\"))\n",
    "print(c)\n",
    "def mediana1(a,b,c):\n",
    "    m1=0.5*math.sqrt(2*(b**2)+2*(c**2)-a**2)\n",
    "    return m1 \n",
    "def mediana2(a,b,c):\n",
    "    m2= 0.5*math.sqrt(2*(a**2)+2*(c**2)-b**2)\n",
    "    return m2 \n",
    "def mediana3(a,b,c):\n",
    "    m3= 0.5*math.sqrt(2*(b**2)+2*(a**2)-c**2)\n",
    "    return m3  \n",
    "m1=mediana1(a,b,c) \n",
    "print(round(m1,2)) \n",
    "m2=mediana2(a,b,c) \n",
    "print(round(m2,2))\n",
    "m3=mediana3(a,b,c) \n",
    "print(round(m3,2))"
   ]
  },
  {
   "cell_type": "code",
   "execution_count": 4,
   "metadata": {},
   "outputs": [
    {
     "name": "stdout",
     "output_type": "stream",
     "text": [
      "Introduceti latura a:5\n",
      "5\n",
      "Introduceti latura b:5\n",
      "5\n",
      "Introduceti latura c:5\n",
      "5\n",
      "4.33\n",
      "4.33\n",
      "4.33\n"
     ]
    }
   ],
   "source": [
    "import math  \n",
    "a=int(input(\"Introduceti latura a:\"))\n",
    "print(a)\n",
    "b=int(input(\"Introduceti latura b:\"))\n",
    "print(b)\n",
    "c=int(input(\"Introduceti latura c:\"))\n",
    "print(c)\n",
    "if  a+b>=c and b+c>=a and c+a>=b:\n",
    "    s=(a+b+c)/2\n",
    "    Aria=(s*(s-a)*(s-b)*(s-c))**0.5\n",
    "def inaltime1(a):\n",
    "    h1=(2*Aria)/a\n",
    "    return h1 \n",
    "def inaltime2(b):\n",
    "    h2=(2*Aria)/b\n",
    "    return h2\n",
    "def inaltime3(c):\n",
    "    h3=(2*Aria)/c\n",
    "    return h3   \n",
    "s1=inaltime1(a) \n",
    "print(round(s1,2)) \n",
    "s2=inaltime2(b) \n",
    "print(round(s2,2))\n",
    "s3=inaltime3(c) \n",
    "print(round(s3,2))"
   ]
  }
 ],
 "metadata": {
  "kernelspec": {
   "display_name": "Python 3",
   "language": "python",
   "name": "python3"
  },
  "language_info": {
   "codemirror_mode": {
    "name": "ipython",
    "version": 3
   },
   "file_extension": ".py",
   "mimetype": "text/x-python",
   "name": "python",
   "nbconvert_exporter": "python",
   "pygments_lexer": "ipython3",
   "version": "3.8.6"
  }
 },
 "nbformat": 4,
 "nbformat_minor": 2
}
