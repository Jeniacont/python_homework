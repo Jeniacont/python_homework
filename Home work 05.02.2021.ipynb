{
 "cells": [
  {
   "cell_type": "code",
   "execution_count": 14,
   "id": "acknowledged-teacher",
   "metadata": {},
   "outputs": [
    {
     "name": "stdout",
     "output_type": "stream",
     "text": [
      "Introduceti a= 6\n",
      "Introdudeci b= 12\n",
      "introduceti c= 6\n",
      "0\n",
      "-1.0\n"
     ]
    }
   ],
   "source": [
    "import math\n",
    "\n",
    "#2 Arithmetic operators, conditional statements, and binary operations.\n",
    "#Exercitiul 1\n",
    "a = int(input(\"Introduceti a= \"))\n",
    "b = int(input(\"Introdudeci b= \"))\n",
    "c = int(input(\"introduceti c= \"))\n",
    "\n",
    "#Formule de calcul\n",
    "#1 etapa se calculeaza delta dupa formula\n",
    "delta = b**2-4*a*c\n",
    "\n",
    "#2 etapa se verifica conditia delta daca este mai mare ca 0, are 2 solutii, daca e mai mic ca 0 este multime vida, daca = 0 are 1 solutie\n",
    "if delta > 0:\n",
    "    x2=(-b-math.sqrt(delta))/(2*a)\n",
    "    x1=(-b+math.sqrt(delta))/(2*a)\n",
    "    print(delta)\n",
    "    print(x1)\n",
    "    print(x2)\n",
    "elif delta == 0:\n",
    "    x1=-b/(2*a)\n",
    "    print(delta)\n",
    "    print(x1)\n",
    "else:\n",
    "    print(\"Multime vida, delta este mai mic decit zero\")\n",
    "\n"
   ]
  },
  {
   "cell_type": "code",
   "execution_count": null,
   "id": "broke-robin",
   "metadata": {},
   "outputs": [],
   "source": [
    "#Exercitiul 2"
   ]
  }
 ],
 "metadata": {
  "kernelspec": {
   "display_name": "Python 3",
   "language": "python",
   "name": "python3"
  },
  "language_info": {
   "codemirror_mode": {
    "name": "ipython",
    "version": 3
   },
   "file_extension": ".py",
   "mimetype": "text/x-python",
   "name": "python",
   "nbconvert_exporter": "python",
   "pygments_lexer": "ipython3",
   "version": "3.8.5"
  }
 },
 "nbformat": 4,
 "nbformat_minor": 5
}
