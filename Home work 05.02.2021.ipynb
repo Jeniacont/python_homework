{
 "cells": [
  {
   "cell_type": "code",
   "execution_count": 5,
   "id": "acknowledged-teacher",
   "metadata": {},
   "outputs": [
    {
     "name": "stdout",
     "output_type": "stream",
     "text": [
      "Introduceti a= 4\n",
      "Introdudeci b= 10\n",
      "introduceti c= 2\n",
      "68\n",
      "-0.21922359359558485\n",
      "-2.2807764064044154\n"
     ]
    }
   ],
   "source": [
    "import math\n",
    "\n",
    "#2 Arithmetic operators, conditional statements, and binary operations.\n",
    "#Exercitiul 1\n",
    "a = int(input(\"Introduceti a= \"))\n",
    "b = int(input(\"Introdudeci b= \"))\n",
    "c = int(input(\"introduceti c= \"))\n",
    "\n",
    "#Formule de calcul\n",
    "#1 etapa se calculeaza delta dupa formula\n",
    "delta = b**2-4*a*c\n",
    "\n",
    "#2 etapa se verifica conditia delta daca este mai mare ca 0, are 2 solutii, daca e mai mic ca 0 este multime vida, daca = 0 are 1 solutie\n",
    "if delta > 0:\n",
    "    x2=(-b-math.sqrt(delta))/(2*a)\n",
    "    x1=(-b+math.sqrt(delta))/(2*a)\n",
    "    print(delta)\n",
    "    print(x1)\n",
    "    print(x2)\n",
    "elif delta == 0:\n",
    "    x1=-b/(2*a)\n",
    "    print(delta)\n",
    "    print(x1)\n",
    "else:\n",
    "    print(\"Multime vida, delta este mai mic decit zero\")\n",
    "\n"
   ]
  },
  {
   "cell_type": "code",
   "execution_count": 2,
   "id": "broke-robin",
   "metadata": {},
   "outputs": [
    {
     "name": "stdout",
     "output_type": "stream",
     "text": [
      "Enter the first point A\n",
      "5\n",
      "6\n",
      "Enter the second point B\n",
      "6\n",
      "7\n",
      "The Euclidean Distance is 1.4142135623730951\n"
     ]
    }
   ],
   "source": [
    "import math\n",
    "#Exercitiul 2\n",
    "\n",
    "#Introducerea punctului A\n",
    "print(\"Enter the first point A\")\n",
    "x1 = int(input())\n",
    "y1 = int(input())\n",
    "\n",
    "#Introducerea punctului B\n",
    "print(\"Enter the second point B\")\n",
    "x2 = int(input())\n",
    "y2 = int(input())\n",
    "\n",
    "#Formula de calcul\n",
    "dist = math.sqrt((x2-x1)**2 + (y2-y1)**2)\n",
    "\n",
    "#Rezultatul\n",
    "print(\"The Euclidean Distance is \" + str(dist))"
   ]
  },
  {
   "cell_type": "code",
   "execution_count": null,
   "id": "guided-scout",
   "metadata": {},
   "outputs": [],
   "source": []
  }
 ],
 "metadata": {
  "kernelspec": {
   "display_name": "Python 3",
   "language": "python",
   "name": "python3"
  },
  "language_info": {
   "codemirror_mode": {
    "name": "ipython",
    "version": 3
   },
   "file_extension": ".py",
   "mimetype": "text/x-python",
   "name": "python",
   "nbconvert_exporter": "python",
   "pygments_lexer": "ipython3",
   "version": "3.8.6"
  }
 },
 "nbformat": 4,
 "nbformat_minor": 5
}
